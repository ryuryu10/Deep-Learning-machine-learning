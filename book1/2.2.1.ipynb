{
 "cells": [
  {
   "cell_type": "code",
   "execution_count": 5,
   "metadata": {},
   "outputs": [
    {
     "name": "stdout",
     "output_type": "stream",
     "text": [
      "\u001b[1mDownloading and preparing dataset Unknown size (download: Unknown size, generated: Unknown size, total: Unknown size) to C:\\Users\\PC\\tensorflow_datasets\\mnist\\3.0.1...\u001b[0m\n"
     ]
    },
    {
     "name": "stderr",
     "output_type": "stream",
     "text": [
      "Dl Completed...: 0 url [00:00, ? url/s]\n",
      "Dl Completed...:   0%|          | 0/1 [00:00<?, ? url/s]\n",
      "Dl Completed...:   0%|          | 0/2 [00:00<?, ? url/s]\n",
      "Dl Completed...:   0%|          | 0/3 [00:00<?, ? url/s]\n",
      "Dl Completed...:   0%|          | 0/4 [00:00<?, ? url/s]\n",
      "Dl Completed...:   0%|          | 0/4 [00:00<?, ? url/s]\n",
      "Dl Completed...:   0%|          | 0/4 [00:00<?, ? url/s]\n",
      "Dl Completed...:   0%|          | 0/4 [00:00<?, ? url/s]\n",
      "Dl Completed...:  25%|██▌       | 1/4 [00:00<00:00, 10.97 url/s]\n",
      "Dl Completed...:  50%|█████     | 2/4 [00:00<00:00, 20.40 url/s]\n",
      "Dl Completed...:  50%|█████     | 2/4 [00:00<00:00, 18.53 url/s]\n",
      "Dl Completed...:  50%|█████     | 2/4 [00:00<00:00, 16.98 url/s]\n",
      "\u001b[A\n",
      "Dl Completed...:  50%|█████     | 2/4 [00:00<00:00, 16.30 url/s]\n",
      "Dl Completed...:  50%|█████     | 2/4 [00:00<00:00, 15.91 url/s]\n",
      "Dl Completed...:  50%|█████     | 2/4 [00:00<00:00, 14.97 url/s]\n",
      "Dl Completed...:  75%|███████▌  | 3/4 [00:00<00:00, 20.41 url/s]\n",
      "Dl Completed...:  75%|███████▌  | 3/4 [00:00<00:00, 20.41 url/s]\n",
      "\u001b[A\n",
      "Dl Completed...:  75%|███████▌  | 3/4 [00:00<00:00, 20.41 url/s]\n",
      "Dl Completed...:  75%|███████▌  | 3/4 [00:00<00:00, 20.41 url/s]\n",
      "Dl Completed...:  75%|███████▌  | 3/4 [00:00<00:00, 20.41 url/s]\n",
      "Dl Completed...:  75%|███████▌  | 3/4 [00:00<00:00, 20.41 url/s]\n",
      "Dl Completed...:  75%|███████▌  | 3/4 [00:00<00:00, 20.41 url/s]\n",
      "Dl Completed...:  75%|███████▌  | 3/4 [00:00<00:00, 20.41 url/s]\n",
      "Dl Completed...:  75%|███████▌  | 3/4 [00:00<00:00, 20.41 url/s]\n",
      "Dl Completed...:  75%|███████▌  | 3/4 [00:00<00:00, 20.41 url/s]\n",
      "Dl Completed...:  75%|███████▌  | 3/4 [00:00<00:00, 20.41 url/s]\n",
      "Dl Completed...:  75%|███████▌  | 3/4 [00:00<00:00, 20.41 url/s]\n",
      "Dl Completed...:  75%|███████▌  | 3/4 [00:00<00:00, 20.41 url/s]\n",
      "Dl Completed...: 100%|██████████| 4/4 [00:00<00:00, 20.41 url/s]\n",
      "Dl Completed...: 100%|██████████| 4/4 [00:00<00:00, 20.41 url/s]\n",
      "Dl Completed...: 100%|██████████| 4/4 [00:00<00:00, 20.41 url/s]\n",
      "Extraction completed...: 100%|██████████| 4/4 [00:00<00:00,  5.00 file/s]\n",
      "Dl Size...: 100%|██████████| 10/10 [00:00<00:00, 12.49 MiB/s]\n",
      "Dl Completed...: 100%|██████████| 4/4 [00:00<00:00,  4.99 url/s]\n",
      "Generating splits...:   0%|          | 0/2 [00:00<?, ? splits/s]"
     ]
    }
   ],
   "source": [
    "import tensorflow_datasets as tfds\n",
    "ds = tfds.load('mnist', split='train', shuffle_files=True)"
   ]
  },
  {
   "cell_type": "code",
   "execution_count": 3,
   "metadata": {},
   "outputs": [],
   "source": [
    "import tensorflow as tf\n",
    "data_train, data_test = tf.keras.datasets.mnist.load_data()\n",
    "(images_train, labels_train) = data_train\n",
    "(images_test, labels_test) = data_test"
   ]
  },
  {
   "cell_type": "code",
   "execution_count": 4,
   "metadata": {},
   "outputs": [
    {
     "name": "stdout",
     "output_type": "stream",
     "text": [
      "Downloading data from https://storage.googleapis.com/download.tensorflow.org/data/illiad/butler.txt\n",
      "811008/807992 [==============================] - 0s 0us/step\n",
      "819200/807992 [==============================] - 0s 0us/step\n"
     ]
    }
   ],
   "source": [
    "import tensorflow as tf\n",
    "url = 'https://storage.googleapis.com/download.tensorflow.org/data/illiad/butler.txt'\n",
    "text_path = tf.keras.utils.get_file(\"butler.txt\", origin=url)"
   ]
  },
  {
   "cell_type": "code",
   "execution_count": null,
   "metadata": {},
   "outputs": [],
   "source": []
  }
 ],
 "metadata": {
  "interpreter": {
   "hash": "4213294de679e4df72beff140dcdbdcf22a63ddea8546167092355ade64a40bc"
  },
  "kernelspec": {
   "display_name": "Python 3.9.7 64-bit ('tensorflow': conda)",
   "language": "python",
   "name": "python3"
  },
  "language_info": {
   "codemirror_mode": {
    "name": "ipython",
    "version": 3
   },
   "file_extension": ".py",
   "mimetype": "text/x-python",
   "name": "python",
   "nbconvert_exporter": "python",
   "pygments_lexer": "ipython3",
   "version": "3.9.7"
  },
  "orig_nbformat": 4
 },
 "nbformat": 4,
 "nbformat_minor": 2
}
